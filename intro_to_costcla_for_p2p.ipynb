{
 "cells": [
  {
   "cell_type": "code",
   "execution_count": 1,
   "metadata": {
    "collapsed": true
   },
   "outputs": [],
   "source": [
    "# importing necessary libraries\n",
    "\n",
    "%matplotlib inline\n",
    "%config InlineBackend.figure_format='png'\n",
    "from os.path import dirname\n",
    "from os.path import join\n",
    "import numpy as np\n",
    "import scipy as sp# \n",
    "import pandas as pd\n",
    "import sklearn as sk\n",
    "import matplotlib as mpl\n",
    "import matplotlib.pylab as plt\n",
    "import seaborn as sns\n",
    "sns.set()\n",
    "sns.set_color_codes()"
   ]
  },
  {
   "cell_type": "code",
   "execution_count": 2,
   "metadata": {
    "collapsed": false
   },
   "outputs": [
    {
     "data": {
      "text/plain": [
       "((256699, 12), 256699)"
      ]
     },
     "execution_count": 2,
     "metadata": {},
     "output_type": "execute_result"
    }
   ],
   "source": [
    "# Data Load\n",
    "df = pd.read_csv(\"loan.csv\", low_memory=False)\n",
    "df = df[[\"annual_inc\", \"grade\", \"int_rate\", \"loan_amnt\", \"loan_status\", \"term\", \"dti\",\"home_ownership\", \\\n",
    "         \"installment\", \"open_acc\", \"revol_bal\", \"revol_util\", \"total_acc\"]]\n",
    "\n",
    "# [\"dti\",\"home_ownership\", \"installment\", \"open_acc\", \"recoveries\", \"revol_bal\", \"revol_util\", \"total_acc\"]\n",
    "\n",
    "# remove nan values\n",
    "df = df.dropna()\n",
    "\n",
    "\n",
    "# Setting \"loan status\" to Target (remove uncertain loan status rows)\n",
    "target_series = pd.Series(df[\"loan_status\"])\n",
    "a = target_series.isin([\"Charged Off\", \"Default\", \"Does not meet the credit policy. Status:Charged Off\",\\\n",
    "                        \"Does not meet the credit policy. Status:Fully Paid\", \"Fully Paid\"])\n",
    "df = df[a]\n",
    "\n",
    "\n",
    "# Changing Target to classes (1: default, 0: not default)\n",
    "a = pd.Series(df[\"loan_status\"])\n",
    "b = a.replace(to_replace=[\"Charged Off\", \"Default\", \\\n",
    "                          \"Does not meet the credit policy. Status:Charged Off\"], value=1)\n",
    "y = b.replace(to_replace = [\"Does not meet the credit policy. Status:Fully Paid\", \"Fully Paid\"], value=0) \n",
    "# y is the target\n",
    "\n",
    "df[\"loan_status\"] = y\n",
    "\n",
    "\n",
    "# home_ownership change : OWN=1, MORTGUAGE & RENT=0\n",
    "a = np.array(df[\"home_ownership\"])\n",
    "b = np.zeros(len(df))\n",
    "\n",
    "for i in range(len(b)):\n",
    "    if a[i] == \"OWN\":\n",
    "        b[i] = 1\n",
    "        \n",
    "df[\"home_ownership\"] = b\n",
    "\n",
    "\n",
    "# change \"term\" to integer\n",
    "d = df[\"term\"].replace(to_replace=[\" 36 months\"], value=36)\n",
    "e = d.replace(to_replace=[\" 60 months\"], value=60)\n",
    "e = np.array(e)\n",
    "df[\"term\"] = e\n",
    "\n",
    "\n",
    "# change annaul income to monthly income\n",
    "df[\"MonthlyIncome\"] = df[\"annual_inc\"]/12\n",
    "df = df.drop(\"annual_inc\", axis=1)\n",
    "\n",
    "\n",
    "# change interest rate to percent\n",
    "df[\"int_rate\"] = df[\"int_rate\"]/100\n",
    "\n",
    "\n",
    "# make lendingclub's commission rate as \"int_rate_lc\"\n",
    "\"\"\"\n",
    "lendingclub's commission rate is set based on the below link:\n",
    "    \"https://www.lendingclub.com/public/borrower-rates-and-fees.action\"\n",
    "\n",
    "A = 3.34% (average value by lendingclub.com)\n",
    "B = 5%\n",
    "C ~ G = 6%\n",
    "\"\"\"\n",
    "grade = np.array(df['grade'])\n",
    "int_rate_lc = np.zeros(len(grade))\n",
    "\n",
    "for i in range(len(grade)):\n",
    "    if grade[i]==\"A\":\n",
    "        int_rate_lc[i]=0.0334\n",
    "    elif grade[i]==\"B\":\n",
    "        int_rate_lc[i]=0.05\n",
    "    else:\n",
    "        int_rate_lc[i]=0.06\n",
    "\n",
    "df[\"int_rate_lc\"] = int_rate_lc\n",
    "df = df.drop(\"grade\", axis=1)\n",
    "\n",
    "# drop the target from data\n",
    "df = df.drop(\"loan_status\", axis=1)\n",
    "\n",
    "\n",
    "# probability to default(p)\n",
    "p = y.sum() / len(y)\n",
    "\n",
    "\n",
    "# data and target\n",
    "df.shape, len(y)"
   ]
  },
  {
   "cell_type": "code",
   "execution_count": 3,
   "metadata": {
    "collapsed": false
   },
   "outputs": [],
   "source": [
    "# peer-to-peer lending companies gather other people's money to make loans.\n",
    "# This is a different environment with the conventional relationships between bank and customers.\n",
    "# Therefore, I need to re-calculate the cost matrix for each loan.\n",
    "\n",
    "# < Citation >\n",
    "# Copyright (c) 2007 David Cournapeau <cournape@gmail.com>\n",
    "#               2010 Fabian Pedregosa <fabian.pedregosa@inria.fr>\n",
    "#               2010 Olivier Grisel <olivier.grisel@ensta.org>\n",
    "#               2014 Alejandro CORREA BAHNSEN <al.bahnsen@gmail.com>\n",
    "# License: BSD 3 clause\n",
    "\n",
    "\n",
    "\"\"\" Setting parameters:\n",
    "\n",
    "    loan_amnt: the amount of each loan\n",
    "    int_rate: interest rate of each loan\n",
    "    int_rate_lc: commission rate of each loan based on the loan's grade\n",
    "    cl: line of credit of each customer(estimating that monthly times 3)\n",
    "    n_term: repaying term of each loan (36month or 60month)\n",
    "    l_gd: loss given default(75%, which is the standard for personal banking)\n",
    "    target: the possibility to be classified to class1(default rate)\n",
    "    \n",
    "\"\"\"\n",
    "\n",
    "loan_amnt_i = df[\"loan_amnt\"]\n",
    "int_rate_i = df[\"int_rate\"]\n",
    "int_rate_lc_i = df[\"int_rate_lc\"]\n",
    "cl_i = 3*df[\"MonthlyIncome\"]\n",
    "n_term_i = df[\"term\"]\n",
    "l_gd = .75\n",
    "p = y.sum()/len(y)\n",
    "\n",
    "\n",
    "# defining function to calculate C_fp : cost of the false positives\n",
    "# c_fp = fee(borrower + investor) + c_fp(a)\n",
    "# fee_bor: lendingclub's expected revenue (deducted from borrowers)\n",
    "# fee_inv: lendingclub's expected revenue (deducted from investors)\n",
    "# c_fp_a: lendingclub's expected revenue (generated by alternative customer; take the mean value)\n",
    "\n",
    "def calculate_c_fp(loan_amnt_i, int_rate_lc_i, cl_i, l_gd, p):\n",
    "    \"\"\"Private function\"\"\"\n",
    "    fee_bor = loan_amnt_i * int_rate_lc_i\n",
    "    fee_inv = loan_amnt_i * n_term_i * 0.01 * (((int_rate_i)/12 * (1 + (int_rate_i)/12) ** n_term_i) / ((1 + (int_rate_i)/12) ** n_term_i - 1))\n",
    "    c_fp_a = (-1)*(1-p)*((np.mean(loan_amnt_i * int_rate_lc_i)) + np.mean(fee_inv)) + p * np.mean(cl_i)*l_gd\n",
    "    \n",
    "    return np.array(fee_bor + fee_inv + c_fp_a)[:,np.newaxis]\n",
    "\n",
    "c_fp = calculate_c_fp(loan_amnt_i, int_rate_lc_i, cl_i, l_gd, p)\n",
    "\n",
    "\n",
    "# calculating C_fn : cost of the false negatives\n",
    "# c_fn = l_gd*cl\n",
    "\n",
    "c_fn = np.array(l_gd*cl_i)[:,np.newaxis]\n",
    "\n",
    "\n",
    "# calculating C_tp & C_tn : cost of the true positives and true negatives\n",
    "# set both of them to zero since this model accurately predicted so that loss cost is not generated  \n",
    "\n",
    "c_tp = np.zeros(len(y))[:,np.newaxis]\n",
    "c_tn = c_tp\n",
    "\n",
    "\n",
    "# hstack each value to build costmatrices\n",
    "\n",
    "cost_mat = np.hstack((c_fp, c_fn, c_tp, c_tn))"
   ]
  },
  {
   "cell_type": "code",
   "execution_count": 4,
   "metadata": {
    "collapsed": true
   },
   "outputs": [],
   "source": [
    "# Load classifiers and split dataset in training and testing\n",
    "from sklearn.ensemble import RandomForestClassifier\n",
    "from sklearn.linear_model import LogisticRegression\n",
    "from sklearn.tree import DecisionTreeClassifier\n",
    "from sklearn.cross_validation import train_test_split\n",
    "\n",
    "np.random.seed(100)\n",
    "X_train, X_test, y_train, y_test, cost_mat_train, cost_mat_test = \\\n",
    "train_test_split(df, y, cost_mat)\n",
    "\n",
    "# Fit the classifiers using the training dataset\n",
    "classifiers = {\"RF\": {\"f\": RandomForestClassifier()},\n",
    "               \"DT\": {\"f\": DecisionTreeClassifier()},\n",
    "               \"LR\": {\"f\": LogisticRegression()}}"
   ]
  },
  {
   "cell_type": "code",
   "execution_count": 5,
   "metadata": {
    "collapsed": false
   },
   "outputs": [],
   "source": [
    "for model in classifiers.keys():\n",
    "    # Fit\n",
    "    classifiers[model][\"f\"].fit(X_train, y_train)\n",
    "    # Predict\n",
    "    classifiers[model][\"c\"] = classifiers[model][\"f\"].predict(X_test)\n",
    "    classifiers[model][\"p\"] = classifiers[model][\"f\"].predict_proba(X_test)\n",
    "    classifiers[model][\"p_train\"] = classifiers[model][\"f\"].predict_proba(X_train)"
   ]
  },
  {
   "cell_type": "code",
   "execution_count": 6,
   "metadata": {
    "collapsed": false
   },
   "outputs": [
    {
     "name": "stdout",
     "output_type": "stream",
     "text": [
      "         pre        f1       rec       acc\n",
      "DT  0.248078  0.260371  0.273947  0.714406\n",
      "RF  0.384520  0.131503  0.079314  0.807760\n",
      "LR  0.370968  0.003886  0.001953  0.816252\n"
     ]
    }
   ],
   "source": [
    "# Evaluate the performance\n",
    "from sklearn.metrics import f1_score, precision_score, recall_score, accuracy_score\n",
    "measures = {\"f1\": f1_score, \"pre\": precision_score, \n",
    "            \"rec\": recall_score, \"acc\": accuracy_score}\n",
    "results = pd.DataFrame(columns=measures.keys())\n",
    "\n",
    "# Evaluate each model in classifiers\n",
    "for model in classifiers.keys():\n",
    "    results.loc[model] = [measures[measure](y_test, classifiers[model][\"c\"]) for measure in measures.keys()]\n",
    "\n",
    "print(results)"
   ]
  },
  {
   "cell_type": "code",
   "execution_count": 7,
   "metadata": {
    "collapsed": false
   },
   "outputs": [
    {
     "data": {
      "image/png": "[encoded data removed]",
      "text/plain": [
       "<matplotlib.figure.Figure at 0x7f7142e82630>"
      ]
     },
     "metadata": {},
     "output_type": "display_data"
    }
   ],
   "source": [
    "ax = plt.subplot(111)\n",
    "\n",
    "ind = np.arange(results.shape[0])\n",
    "width = 0.2\n",
    "l = ax.plot(ind, results, \"-o\")\n",
    "plt.legend(iter(l), results.columns.tolist(), loc='center left', bbox_to_anchor=(1, 0.5))\n",
    "ax.set_xlim([-0.25, ind[-1]+.25])\n",
    "ax.set_xticks(ind)\n",
    "ax.set_xticklabels(results.index)\n",
    "plt.show()"
   ]
  },
  {
   "cell_type": "code",
   "execution_count": 8,
   "metadata": {
    "collapsed": false
   },
   "outputs": [
    {
     "name": "stdout",
     "output_type": "stream",
     "text": [
      "         pre        f1       rec       acc       sav\n",
      "DT  0.248078  0.260371  0.273947  0.714406  0.021194\n",
      "RF  0.384520  0.131503  0.079314  0.807760 -0.018274\n",
      "LR  0.370968  0.003886  0.001953  0.816252 -0.056706\n"
     ]
    }
   ],
   "source": [
    "# Calculation of the cost and savings\n",
    "from costcla.metrics import savings_score, cost_loss \n",
    "\n",
    "# Evaluate the savings for each model\n",
    "results[\"sav\"] = np.zeros(results.shape[0])\n",
    "for model in classifiers.keys():\n",
    "    results[\"sav\"].loc[model] = savings_score(y_test, classifiers[model][\"c\"], cost_mat_test)\n",
    "\n",
    "# TODO: plot results\n",
    "print(results)"
   ]
  },
  {
   "cell_type": "code",
   "execution_count": 9,
   "metadata": {
    "collapsed": false
   },
   "outputs": [
    {
     "data": {
      "image/png": "[encoded data removed]",
      "text/plain": [
       "<matplotlib.figure.Figure at 0x7f714dde6a90>"
      ]
     },
     "metadata": {},
     "output_type": "display_data"
    }
   ],
   "source": [
    "# Plot the results\n",
    "colors = sns.color_palette()\n",
    "\n",
    "ax = plt.subplot(111)\n",
    "l = ax.plot(ind, results[\"f1\"], \"-o\", label='F1Score', color=colors[2])\n",
    "b = ax.bar(ind-0.3, results['sav'], 0.6, label='Savings', color=colors[0])\n",
    "plt.legend(loc='center left', bbox_to_anchor=(1, 0.5))\n",
    "ax.set_xlim([-0.5, ind[-1]+.5])\n",
    "ax.set_xticks(ind)\n",
    "ax.set_xticklabels(results.index)\n",
    "plt.show()"
   ]
  },
  {
   "cell_type": "code",
   "execution_count": 10,
   "metadata": {
    "collapsed": true
   },
   "outputs": [],
   "source": [
    "from costcla.models import BayesMinimumRiskClassifier\n",
    "ci_models = classifiers.keys()"
   ]
  },
  {
   "cell_type": "code",
   "execution_count": 11,
   "metadata": {
    "collapsed": false
   },
   "outputs": [],
   "source": [
    "classifiers['DT'+\"-BMR\"] = {\"f\": BayesMinimumRiskClassifier()}\n",
    "classifiers['LR'+\"-BMR\"] = {\"f\": BayesMinimumRiskClassifier()}\n",
    "classifiers['RF'+\"-BMR\"] = {\"f\": BayesMinimumRiskClassifier()}"
   ]
  },
  {
   "cell_type": "code",
   "execution_count": 12,
   "metadata": {
    "collapsed": true
   },
   "outputs": [],
   "source": [
    "# calibration\n",
    "classifiers['DT'+\"-BMR\"][\"f\"].fit(y_test, classifiers['DT'][\"p\"])  \n",
    "classifiers['LR'+\"-BMR\"][\"f\"].fit(y_test, classifiers['LR'][\"p\"])  \n",
    "classifiers['RF'+\"-BMR\"][\"f\"].fit(y_test, classifiers['RF'][\"p\"])  "
   ]
  },
  {
   "cell_type": "code",
   "execution_count": 13,
   "metadata": {
    "collapsed": true
   },
   "outputs": [],
   "source": [
    "# predict\n",
    "classifiers['DT'+\"-BMR\"][\"c\"] = classifiers['DT'+\"-BMR\"][\"f\"].predict(classifiers['DT'][\"p\"], cost_mat_test)\n",
    "classifiers['LR'+\"-BMR\"][\"c\"] = classifiers['LR'+\"-BMR\"][\"f\"].predict(classifiers['LR'][\"p\"], cost_mat_test)\n",
    "classifiers['RF'+\"-BMR\"][\"c\"] = classifiers['RF'+\"-BMR\"][\"f\"].predict(classifiers['RF'][\"p\"], cost_mat_test)"
   ]
  },
  {
   "cell_type": "code",
   "execution_count": 14,
   "metadata": {
    "collapsed": true
   },
   "outputs": [],
   "source": [
    "# Evaluate\n",
    "results.loc['DT'+\"-BMR\"] = 0\n",
    "results.loc['DT'+\"-BMR\", measures.keys()] = \\\n",
    "[measures[measure](y_test, classifiers['DT'+\"-BMR\"][\"c\"]) for measure in measures.keys()]\n",
    "results[\"sav\"].loc['DT'+\"-BMR\"] = savings_score(y_test, classifiers['DT'+\"-BMR\"][\"c\"], cost_mat_test)\n",
    "\n",
    "results.loc['LR'+\"-BMR\"] = 0\n",
    "results.loc['LR'+\"-BMR\", measures.keys()] = \\\n",
    "[measures[measure](y_test, classifiers['LR'+\"-BMR\"][\"c\"]) for measure in measures.keys()]\n",
    "results[\"sav\"].loc['LR'+\"-BMR\"] = savings_score(y_test, classifiers['LR'+\"-BMR\"][\"c\"], cost_mat_test)"
   ]
  },
  {
   "cell_type": "code",
   "execution_count": 15,
   "metadata": {
    "collapsed": true
   },
   "outputs": [],
   "source": [
    "results.loc['RF'+\"-BMR\"] = 0\n",
    "results.loc['RF'+\"-BMR\", measures.keys()] = \\\n",
    "[measures[measure](y_test, classifiers['RF'+\"-BMR\"][\"c\"]) for measure in measures.keys()]\n",
    "results[\"sav\"].loc['RF'+\"-BMR\"] = savings_score(y_test, classifiers['RF'+\"-BMR\"][\"c\"], cost_mat_test)"
   ]
  },
  {
   "cell_type": "code",
   "execution_count": 16,
   "metadata": {
    "collapsed": false
   },
   "outputs": [
    {
     "name": "stdout",
     "output_type": "stream",
     "text": [
      "             pre        f1       rec       acc       sav\n",
      "DT      0.248078  0.260371  0.273947  0.714406  0.021194\n",
      "RF      0.384520  0.131503  0.079314  0.807760 -0.018274\n",
      "LR      0.370968  0.003886  0.001953  0.816252 -0.056706\n",
      "DT-BMR  0.148595  0.215034  0.388927  0.478956  0.020933\n",
      "LR-BMR  0.142916  0.207854  0.380944  0.467191 -0.018886\n",
      "RF-BMR  0.201780  0.286334  0.492867  0.549170  0.124039\n"
     ]
    }
   ],
   "source": [
    "print(results)"
   ]
  },
  {
   "cell_type": "code",
   "execution_count": 17,
   "metadata": {
    "collapsed": false
   },
   "outputs": [
    {
     "data": {
      "image/png": "[encoded data removed]",
      "text/plain": [
       "<matplotlib.figure.Figure at 0x7f714dde64e0>"
      ]
     },
     "metadata": {},
     "output_type": "display_data"
    }
   ],
   "source": [
    "# Plot the results\n",
    "ind = np.arange(results.shape[0])\n",
    "ax = plt.subplot(111)\n",
    "l = ax.plot(ind, results[\"f1\"], \"-o\", label='F1Score', color=colors[2])\n",
    "b = ax.bar(ind-0.3, results['sav'], 0.6, label='Savings', color=colors[0])\n",
    "plt.legend(loc='center left', bbox_to_anchor=(1, 0.5))\n",
    "ax.set_xlim([-0.5, ind[-1]+.5])\n",
    "ax.set_xticks(ind)\n",
    "ax.set_xticklabels(results.index)\n",
    "plt.show()"
   ]
  },
  {
   "cell_type": "code",
   "execution_count": 18,
   "metadata": {
    "collapsed": true
   },
   "outputs": [],
   "source": [
    "from costcla.models import CostSensitiveDecisionTreeClassifier\n",
    "\n",
    "classifiers[\"CSDT\"] = {\"f\": CostSensitiveDecisionTreeClassifier()}"
   ]
  },
  {
   "cell_type": "code",
   "execution_count": 19,
   "metadata": {
    "collapsed": true
   },
   "outputs": [],
   "source": [
    "X_train = np.array(X_train)\n",
    "X_test = np.array(X_test)"
   ]
  },
  {
   "cell_type": "code",
   "execution_count": 20,
   "metadata": {
    "collapsed": false
   },
   "outputs": [
    {
     "data": {
      "text/plain": [
       "CostSensitiveDecisionTreeClassifier(criterion='direct_cost',\n",
       "                  criterion_weight=False, max_depth=None,\n",
       "                  max_features=None, min_gain=0.001, min_samples_leaf=1,\n",
       "                  min_samples_split=2, num_pct=100, pruned=True)"
      ]
     },
     "execution_count": 20,
     "metadata": {},
     "output_type": "execute_result"
    }
   ],
   "source": [
    "classifiers[\"CSDT\"][\"f\"].fit(X_train, y_train, cost_mat_train)"
   ]
  },
  {
   "cell_type": "code",
   "execution_count": 21,
   "metadata": {
    "collapsed": false,
    "scrolled": true
   },
   "outputs": [
    {
     "data": {
      "text/plain": [
       "CostSensitiveDecisionTreeClassifier(criterion='direct_cost',\n",
       "                  criterion_weight=False, max_depth=None,\n",
       "                  max_features=None, min_gain=0.001, min_samples_leaf=1,\n",
       "                  min_samples_split=2, num_pct=100, pruned=True)"
      ]
     },
     "execution_count": 21,
     "metadata": {},
     "output_type": "execute_result"
    }
   ],
   "source": [
    "classifiers[\"CSDT\"][\"f\"]"
   ]
  },
  {
   "cell_type": "code",
   "execution_count": 22,
   "metadata": {
    "collapsed": true
   },
   "outputs": [],
   "source": [
    "classifiers[\"CSDT\"][\"c\"] = classifiers[\"CSDT\"][\"f\"].predict(X_test)"
   ]
  },
  {
   "cell_type": "code",
   "execution_count": 23,
   "metadata": {
    "collapsed": false
   },
   "outputs": [
    {
     "name": "stdout",
     "output_type": "stream",
     "text": [
      "             pre        f1       rec       acc       sav\n",
      "DT      0.248078  0.260371  0.273947  0.714406  0.021194\n",
      "RF      0.384520  0.131503  0.079314  0.807760 -0.018274\n",
      "LR      0.370968  0.003886  0.001953  0.816252 -0.056706\n",
      "DT-BMR  0.148595  0.215034  0.388927  0.478956  0.020933\n",
      "LR-BMR  0.142916  0.207854  0.380944  0.467191 -0.018886\n",
      "RF-BMR  0.201780  0.286334  0.492867  0.549170  0.124039\n",
      "CSDT    0.273978  0.378509  0.612007  0.631212  0.210481\n"
     ]
    }
   ],
   "source": [
    "results.loc[\"CSDT\"] = 0\n",
    "results.loc[\"CSDT\", measures.keys()] = \\\n",
    "[measures[measure](y_test, classifiers[\"CSDT\"][\"c\"]) for measure in measures.keys()]\n",
    "results[\"sav\"].loc[\"CSDT\"] = savings_score(y_test, classifiers[\"CSDT\"][\"c\"], cost_mat_test)\n",
    "    \n",
    "print(results)"
   ]
  },
  {
   "cell_type": "code",
   "execution_count": 24,
   "metadata": {
    "collapsed": false
   },
   "outputs": [
    {
     "data": {
      "image/png": "[encoded data removed]",
      "text/plain": [
       "<matplotlib.figure.Figure at 0x7f7147f26da0>"
      ]
     },
     "metadata": {},
     "output_type": "display_data"
    }
   ],
   "source": [
    "# Plot the results\n",
    "ind = np.arange(results.shape[0])\n",
    "ax = plt.subplot(111)\n",
    "l = ax.plot(ind, results[\"f1\"], \"-o\", label='F1Score', color=colors[2])\n",
    "b = ax.bar(ind-0.3, results['sav'], 0.6, label='Savings', color=colors[0])\n",
    "plt.legend(loc='center left', bbox_to_anchor=(1, 0.5))\n",
    "ax.set_xlim([-0.5, ind[-1]+.5])\n",
    "ax.set_xticks(ind)\n",
    "ax.set_xticklabels(results.index)\n",
    "plt.show()"
   ]
  },
  {
   "cell_type": "code",
   "execution_count": 25,
   "metadata": {
    "collapsed": true
   },
   "outputs": [],
   "source": [
    "from costcla.models import CostSensitiveRandomPatchesClassifier\n",
    "classifiers[\"CSRP\"] = {\"f\": CostSensitiveRandomPatchesClassifier(combination='weighted_voting')}\n",
    "classifiers[\"CSRP\"][\"f\"].fit(X_train, y_train, cost_mat_train)\n",
    "classifiers[\"CSRP\"][\"c\"] = classifiers[\"CSRP\"][\"f\"].predict(X_test)"
   ]
  },
  {
   "cell_type": "code",
   "execution_count": 26,
   "metadata": {
    "collapsed": false
   },
   "outputs": [
    {
     "name": "stdout",
     "output_type": "stream",
     "text": [
      "             pre        f1       rec       acc       sav\n",
      "DT      0.248078  0.260371  0.273947  0.714406  0.021194\n",
      "RF      0.384520  0.131503  0.079314  0.807760 -0.018274\n",
      "LR      0.370968  0.003886  0.001953  0.816252 -0.056706\n",
      "DT-BMR  0.148595  0.215034  0.388927  0.478956  0.020933\n",
      "LR-BMR  0.142916  0.207854  0.380944  0.467191 -0.018886\n",
      "RF-BMR  0.201780  0.286334  0.492867  0.549170  0.124039\n",
      "CSDT    0.273978  0.378509  0.612007  0.631212  0.210481\n",
      "CSRP    0.265847  0.379774  0.664572  0.601683  0.223632\n"
     ]
    }
   ],
   "source": [
    "results.loc[\"CSRP\"] = 0\n",
    "results.loc[\"CSRP\", measures.keys()] = \\\n",
    "[measures[measure](y_test, classifiers[\"CSRP\"][\"c\"]) for measure in measures.keys()]\n",
    "results[\"sav\"].loc[\"CSRP\"] = savings_score(y_test, classifiers[\"CSRP\"][\"c\"], cost_mat_test)\n",
    "    \n",
    "print(results)"
   ]
  },
  {
   "cell_type": "code",
   "execution_count": 27,
   "metadata": {
    "collapsed": false
   },
   "outputs": [
    {
     "data": {
      "image/png": "[encoded data removed]",
      "text/plain": [
       "<matplotlib.figure.Figure at 0x7f714df55c50>"
      ]
     },
     "metadata": {},
     "output_type": "display_data"
    }
   ],
   "source": [
    "# Plot the results\n",
    "ind = np.arange(results.shape[0])\n",
    "ax = plt.subplot(111)\n",
    "l = ax.plot(ind, results[\"f1\"], \"-o\", label='F1Score', color=colors[2])\n",
    "b = ax.bar(ind-0.3, results['sav'], 0.6, label='Savings', color=colors[0])\n",
    "plt.legend(loc='center left', bbox_to_anchor=(1, 0.5))\n",
    "ax.set_xlim([-0.5, ind[-1]+.5])\n",
    "ax.set_xticks(ind)\n",
    "ax.set_xticklabels(results.index)\n",
    "plt.show()"
   ]
  },
  {
   "cell_type": "code",
   "execution_count": 28,
   "metadata": {
    "collapsed": true
   },
   "outputs": [],
   "source": [
    "from sklearn.utils import column_or_1d\n",
    "\n",
    "def cost_loss(y_true, y_pred, cost_mat):\n",
    "    y_true = column_or_1d(y_true)\n",
    "    y_true = (y_true == 1).astype(np.float)\n",
    "    y_pred = column_or_1d(y_pred)\n",
    "    y_pred = (y_pred == 1).astype(np.float)\n",
    "    cost = y_true * ((1 - y_pred) * cost_mat[:, 1] + y_pred * cost_mat[:, 2])\n",
    "    cost += (1 - y_true) * (y_pred * cost_mat[:, 0] + (1 - y_pred) * cost_mat[:, 3])\n",
    "    return np.sum(cost)\n"
   ]
  },
  {
   "cell_type": "code",
   "execution_count": 29,
   "metadata": {
    "collapsed": false
   },
   "outputs": [],
   "source": [
    "cost_base = min(cost_loss(y_test, np.zeros(len(y_test)), cost_mat_test),\\\n",
    "                cost_loss(y_test, np.ones(len(y_test)), cost_mat_test))"
   ]
  },
  {
   "cell_type": "code",
   "execution_count": 30,
   "metadata": {
    "collapsed": false
   },
   "outputs": [
    {
     "name": "stdout",
     "output_type": "stream",
     "text": [
      "savings(CSDT): $ 29028473\n",
      "savings(CSDT): $ 30842131\n"
     ]
    }
   ],
   "source": [
    "print(\"savings(CSDT): $ \"+str(int(cost_base * results.loc[\"CSDT\"][\"sav\"])))\n",
    "print(\"savings(CSDT): $ \"+str(int(cost_base * results.loc[\"CSRP\"][\"sav\"])))"
   ]
  },
  {
   "cell_type": "code",
   "execution_count": 31,
   "metadata": {
    "collapsed": false
   },
   "outputs": [
    {
     "data": {
      "text/plain": [
       "<matplotlib.axes._subplots.AxesSubplot at 0x7f7142ec1240>"
      ]
     },
     "execution_count": 31,
     "metadata": {},
     "output_type": "execute_result"
    },
    {
     "data": {
      "image/png": "[encoded data removed]",
      "text/plain": [
       "<matplotlib.figure.Figure at 0x7f714de0e160>"
      ]
     },
     "metadata": {},
     "output_type": "display_data"
    }
   ],
   "source": [
    "# Calculation of the actual amount of savings induced by using each model\n",
    "\n",
    "# objectify each model's savings costs\n",
    "\n",
    "RF = int(cost_base -cost_base * results.loc[\"RF\"][\"sav\"])\n",
    "DT = int(cost_base -cost_base * results.loc[\"DT\"][\"sav\"])\n",
    "LR = int(cost_base -cost_base * results.loc[\"LR\"][\"sav\"])\n",
    "DTBMR = int(cost_base -cost_base * results.loc[\"DT-BMR\"][\"sav\"])\n",
    "LRBMR = int(cost_base -cost_base * results.loc[\"LR-BMR\"][\"sav\"])\n",
    "RFBMR = int(cost_base -cost_base * results.loc[\"RF-BMR\"][\"sav\"])\n",
    "CSDT = int(cost_base -cost_base * results.loc[\"CSDT\"][\"sav\"])\n",
    "CSRP = int(cost_base -cost_base * results.loc[\"CSRP\"][\"sav\"])\n",
    "\n",
    "savings_cost = np.array([cost_base, DT, RF, LR, DTBMR, LRBMR, RFBMR, CSDT, CSRP])\n",
    "columns = [\"BASE\", \"DT\", \"RF\", \"LR\", \"DT-BMR\", \"LR-BMR\", \"RF-BMR\", \"CSDT\", \"CSRP\"]\n",
    "\n",
    "# add one more dimensioin to make it 2X9 matrix\n",
    "savings_cost = savings_cost[:, np.newaxis]\n",
    "\n",
    "# Transform matrix to DataFrame\n",
    "savings_cost = pd.DataFrame(savings_cost).T\n",
    "\n",
    "savings_cost.columns = columns\n",
    "\n",
    "# plot the savings_cost\n",
    "sns.barplot(data=savings_cost)"
   ]
  },
  {
   "cell_type": "code",
   "execution_count": 34,
   "metadata": {
    "collapsed": false
   },
   "outputs": [
    {
     "name": "stdout",
     "output_type": "stream",
     "text": [
      "CSDT savings cost: $  29028473\n",
      "CSRP savings cost: $  30842131\n"
     ]
    }
   ],
   "source": [
    "print(\"CSDT savings cost: $  \"+str(int(cost_base - CSDT)))\n",
    "print(\"CSRP savings cost: $  \"+str(int(cost_base - CSRP)))"
   ]
  },
  {
   "cell_type": "code",
   "execution_count": null,
   "metadata": {
    "collapsed": true
   },
   "outputs": [],
   "source": []
  }
 ],
 "metadata": {
  "anaconda-cloud": {},
  "kernelspec": {
   "display_name": "Python [py35]",
   "language": "python",
   "name": "Python [py35]"
  },
  "language_info": {
   "codemirror_mode": {
    "name": "ipython",
    "version": 3
   },
   "file_extension": ".py",
   "mimetype": "text/x-python",
   "name": "python",
   "nbconvert_exporter": "python",
   "pygments_lexer": "ipython3",
   "version": "3.5.1"
  }
 },
 "nbformat": 4,
 "nbformat_minor": 0
}
